{
 "cells": [
  {
   "cell_type": "markdown",
   "metadata": {},
   "source": [
    "# Becoming an Effective Data Science Practitioner \n",
    "\n",
    "An excerpt from Jake VanderPlas's *Python Data Science Handbook* says - \"Being an effective practitioner of data science is less about memorizing the tool or command you should use for every possible situation, and more about learning to effectively find the information you don't know, whether through a web search engine or another means.\" \n",
    "\n",
    "This is can't be further from the truth. Through out my data science journey, I've spent more time researching and mining answers to things I don't know. Web surfing for answers i.e. Googling, is the first thing most people do when they are in need for easy or hard to answer questions. This is most likely the right move for difficult questions. But an ample amount of information can be found in Ipython/Jupyter Notebook. Some example questions: \n",
    "- What is in this package I imported? What methods can I call on this object?\n",
    "- How do I call this function? What arguments and options does it have? \n",
    "- What does the source code look like? \n"
   ]
  },
  {
   "cell_type": "code",
   "execution_count": null,
   "metadata": {},
   "outputs": [],
   "source": []
  }
 ],
 "metadata": {
  "kernelspec": {
   "display_name": "Python 3",
   "language": "python",
   "name": "python3"
  },
  "language_info": {
   "codemirror_mode": {
    "name": "ipython",
    "version": 3
   },
   "file_extension": ".py",
   "mimetype": "text/x-python",
   "name": "python",
   "nbconvert_exporter": "python",
   "pygments_lexer": "ipython3",
   "version": "3.6.6"
  }
 },
 "nbformat": 4,
 "nbformat_minor": 2
}
